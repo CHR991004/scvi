{
  "cells": [
    {
      "cell_type": "markdown",
      "metadata": {
        "id": "ny_p9QIakW9A"
      },
      "source": [
        "# Atlas-level integration of lung data"
      ]
    },
    {
      "cell_type": "markdown",
      "metadata": {
        "id": "XzD5LdZb1BQ-"
      },
      "source": [
        "An important task of single-cell analysis is the integration of several samples, which we can perform with scVI. For integration, scVI treats the data as unlabelled. When our dataset is fully labelled (perhaps in independent studies, or independent analysis pipelines), we can obtain an integration that better preserves biology using scANVI, which incorporates cell type annotation information. Here we demonstrate this functionality with an integrated analysis of cells from the lung atlas integration task from the [scIB manuscript](https://www.biorxiv.org/content/10.1101/2020.05.22.111161v2). The same pipeline would generally be used to analyze any collection of scRNA-seq datasets."
      ]
    },
    {
      "cell_type": "markdown",
      "metadata": {
        "id": "miB-sCbBPQQp"
      },
      "source": [
        "```{note}\n",
        "Running the following cell will install tutorial dependencies on Google Colab only. It will have no effect on environments other than Google Colab.\n",
        "```"
      ]
    },
    {
      "cell_type": "code",
      "execution_count": 1,
      "metadata": {
        "colab": {
          "base_uri": "https://localhost:8080/"
        },
        "execution": {
          "iopub.execute_input": "2025-06-26T04:39:03.565025Z",
          "iopub.status.busy": "2025-06-26T04:39:03.564587Z",
          "iopub.status.idle": "2025-06-26T04:39:04.660777Z",
          "shell.execute_reply": "2025-06-26T04:39:04.660440Z"
        },
        "id": "SFktksmwPQQq",
        "outputId": "1fa9f76f-22ab-49d8-8d8f-9c7b6eecbe5f"
      },
      "outputs": [
        {
          "output_type": "stream",
          "name": "stdout",
          "text": [
            "\u001b[34mINFO    \u001b[0m scvi-colab: Installing scvi-tools.                                                                        \n",
            "\u001b[34mINFO    \u001b[0m scvi-colab: Install successful. Testing import.                                                           \n"
          ]
        }
      ],
      "source": [
        "!pip install --quiet scvi-colab\n",
        "from scvi_colab import install\n",
        "\n",
        "install()"
      ]
    },
    {
      "cell_type": "code",
      "execution_count": 2,
      "metadata": {
        "execution": {
          "iopub.execute_input": "2025-06-26T04:39:04.662137Z",
          "iopub.status.busy": "2025-06-26T04:39:04.661915Z",
          "iopub.status.idle": "2025-06-26T04:39:22.674956Z",
          "shell.execute_reply": "2025-06-26T04:39:22.674624Z"
        },
        "id": "vxX6Mh4QPQQr"
      },
      "outputs": [],
      "source": [
        "import os\n",
        "import tempfile\n",
        "\n",
        "import scanpy as sc\n",
        "import scvi\n",
        "import seaborn as sns\n",
        "import torch\n",
        "from rich import print\n",
        "from scib_metrics.benchmark import Benchmarker"
      ]
    },
    {
      "cell_type": "code",
      "execution_count": 3,
      "metadata": {
        "colab": {
          "base_uri": "https://localhost:8080/",
          "height": 70
        },
        "execution": {
          "iopub.execute_input": "2025-06-26T04:39:22.676521Z",
          "iopub.status.busy": "2025-06-26T04:39:22.676132Z",
          "iopub.status.idle": "2025-06-26T04:39:22.681734Z",
          "shell.execute_reply": "2025-06-26T04:39:22.681550Z"
        },
        "id": "ocwCrHhdPQQr",
        "outputId": "0a65fab7-b9bc-49c4-9d0c-3824dbdcede3"
      },
      "outputs": [
        {
          "output_type": "stream",
          "name": "stderr",
          "text": [
            "INFO: Seed set to 0\n",
            "INFO:lightning.fabric.utilities.seed:Seed set to 0\n"
          ]
        },
        {
          "output_type": "display_data",
          "data": {
            "text/plain": [
              "Last run with scvi-tools version: \u001b[1;36m1.3\u001b[0m.\u001b[1;36m3\u001b[0m\n"
            ],
            "text/html": [
              "<pre style=\"white-space:pre;overflow-x:auto;line-height:normal;font-family:Menlo,'DejaVu Sans Mono',consolas,'Courier New',monospace\">Last run with scvi-tools version: <span style=\"color: #008080; text-decoration-color: #008080; font-weight: bold\">1.3</span>.<span style=\"color: #008080; text-decoration-color: #008080; font-weight: bold\">3</span>\n",
              "</pre>\n"
            ]
          },
          "metadata": {}
        }
      ],
      "source": [
        "scvi.settings.seed = 0\n",
        "print(\"Last run with scvi-tools version:\", scvi.__version__)"
      ]
    },
    {
      "cell_type": "markdown",
      "metadata": {
        "id": "pPRc6JYaPQQr"
      },
      "source": [
        "```{note}\n",
        "You can modify `save_dir` below to change where the data files for this tutorial are saved.\n",
        "```"
      ]
    },
    {
      "cell_type": "code",
      "execution_count": 4,
      "metadata": {
        "execution": {
          "iopub.execute_input": "2025-06-26T04:39:22.682473Z",
          "iopub.status.busy": "2025-06-26T04:39:22.682394Z",
          "iopub.status.idle": "2025-06-26T04:39:22.693988Z",
          "shell.execute_reply": "2025-06-26T04:39:22.693805Z"
        },
        "id": "aVDljNeyKYPA"
      },
      "outputs": [],
      "source": [
        "sc.set_figure_params(figsize=(6, 6), frameon=False)\n",
        "sns.set_theme()\n",
        "torch.set_float32_matmul_precision(\"high\")\n",
        "save_dir = tempfile.TemporaryDirectory()\n",
        "\n",
        "%config InlineBackend.print_figure_kwargs={\"facecolor\": \"w\"}\n",
        "%config InlineBackend.figure_format=\"retina\""
      ]
    },
    {
      "cell_type": "markdown",
      "metadata": {
        "id": "QW3WiY6cQnFr"
      },
      "source": [
        "### Dataset Preprocessing\n",
        "For this tutorial we use an already preprocessed dataset from the lung atlas integration task in the [scIB manuscript](https://www.biorxiv.org/content/10.1101/2020.05.22.111161v2). To see the exact preprocessing that was done, or to preprocess your own scRNA dataset for use with scvi-tools models, see our [preprocessing tutorial](https://docs.scvi-tools.org/en/stable/tutorials/notebooks/use_cases/preprocessing.html#scrna-seq)."
      ]
    },
    {
      "cell_type": "code",
      "execution_count": 5,
      "metadata": {
        "colab": {
          "base_uri": "https://localhost:8080/",
          "height": 161,
          "referenced_widgets": [
            "b2f58f64a3bc4babb415ee2f717dc6d2",
            "85a687e14a724c9ab065888aecd12934",
            "892062f92fe34c7f9eea31adfa01053b",
            "fc7b0ad71f424750963a871366fc6b94",
            "a988f63064b449c98ad663689c96e692",
            "65589f866fe24b0890bb52e01b0a8074",
            "249b0e08e98647638fdec1d725e72760",
            "020c4bb1a3624d38beea7b78c2b3643d",
            "2bf96b78c04b4f898b02534f5ccd1ac3",
            "d66df2fd42f443788da3647f0ef2933a",
            "ce91b33fc6c5473f8530902422f832fe"
          ]
        },
        "execution": {
          "iopub.execute_input": "2025-06-26T04:39:22.695069Z",
          "iopub.status.busy": "2025-06-26T04:39:22.694989Z",
          "iopub.status.idle": "2025-06-26T04:39:55.443875Z",
          "shell.execute_reply": "2025-06-26T04:39:55.443395Z"
        },
        "id": "1PQDnan1SsX_",
        "outputId": "db5647e2-f558-407b-99ab-72f601eeefe6"
      },
      "outputs": [
        {
          "output_type": "display_data",
          "data": {
            "text/plain": [
              "  0%|          | 0.00/628M [00:00<?, ?B/s]"
            ],
            "application/vnd.jupyter.widget-view+json": {
              "version_major": 2,
              "version_minor": 0,
              "model_id": "b2f58f64a3bc4babb415ee2f717dc6d2"
            }
          },
          "metadata": {}
        },
        {
          "output_type": "execute_result",
          "data": {
            "text/plain": [
              "AnnData object with n_obs × n_vars = 32472 × 2000\n",
              "    obs: 'dataset', 'location', 'nGene', 'nUMI', 'patientGroup', 'percent.mito', 'protocol', 'sanger_type', 'size_factors', 'sampling_method', 'batch', 'cell_type', 'donor'\n",
              "    var: 'highly_variable', 'highly_variable_rank', 'means', 'variances', 'variances_norm', 'highly_variable_nbatches'\n",
              "    uns: 'hvg'\n",
              "    layers: 'counts'"
            ]
          },
          "metadata": {},
          "execution_count": 5
        }
      ],
      "source": [
        "# download preprocessed dataset\n",
        "adata_path = os.path.join(save_dir.name, \"lung_atlas_preprocessed.h5ad\")\n",
        "\n",
        "adata = sc.read(\n",
        "    adata_path,\n",
        "    backup_url=\"https://figshare.com/ndownloader/files/52859312\",\n",
        ")\n",
        "adata"
      ]
    },
    {
      "cell_type": "markdown",
      "metadata": {
        "id": "XwLjM6XHU4x2"
      },
      "source": [
        "## Integration with scVI\n",
        "\n",
        "As a first step, we assume that the data is completely unlabelled and we wish to find common axes of variation between the two datasets. There are many methods available in scanpy for this purpose (BBKNN, Scanorama, etc.). In this notebook we present scVI. To run scVI, we simply need to:\n",
        "\n",
        "- Register the AnnData object with the correct key to identify the sample and the layer key with the count data.\n",
        "- Create an SCVI model object."
      ]
    },
    {
      "cell_type": "code",
      "execution_count": 6,
      "metadata": {
        "colab": {
          "base_uri": "https://localhost:8080/"
        },
        "execution": {
          "iopub.execute_input": "2025-06-26T04:39:55.445055Z",
          "iopub.status.busy": "2025-06-26T04:39:55.444949Z",
          "iopub.status.idle": "2025-06-26T04:39:55.449176Z",
          "shell.execute_reply": "2025-06-26T04:39:55.448947Z"
        },
        "id": "AU7GN0ofUse0",
        "outputId": "2470c4df-f302-4f2d-bbbd-dd1a670e05be"
      },
      "outputs": [
        {
          "output_type": "stream",
          "name": "stderr",
          "text": [
            "/usr/local/lib/python3.11/dist-packages/scvi/data/fields/_base_field.py:63: UserWarning: adata.layers[counts] does not contain unnormalized count data. Are you sure this is what you want?\n",
            "  self.validate_field(adata)\n"
          ]
        }
      ],
      "source": [
        "scvi.model.SCVI.setup_anndata(adata, layer=\"counts\", batch_key=\"batch\")"
      ]
    },
    {
      "cell_type": "markdown",
      "metadata": {
        "id": "GX14578FYiKW"
      },
      "source": [
        "We note that these parameters are non-default; however, they have been verified to generally work well in the integration task."
      ]
    },
    {
      "cell_type": "code",
      "execution_count": 7,
      "metadata": {
        "execution": {
          "iopub.execute_input": "2025-06-26T04:39:55.450158Z",
          "iopub.status.busy": "2025-06-26T04:39:55.449983Z",
          "iopub.status.idle": "2025-06-26T04:39:55.458075Z",
          "shell.execute_reply": "2025-06-26T04:39:55.457855Z"
        },
        "id": "kOrgf1szZ0lr"
      },
      "outputs": [],
      "source": [
        "model = scvi.model.SCVI(adata, n_layers=2, n_latent=30, gene_likelihood=\"nb\")"
      ]
    },
    {
      "cell_type": "markdown",
      "metadata": {
        "id": "fSKOgaCavMgO"
      },
      "source": [
        "Now we train scVI. This should take a couple of minutes on a Colab session"
      ]
    },
    {
      "cell_type": "code",
      "execution_count": null,
      "metadata": {
        "colab": {
          "base_uri": "https://localhost:8080/",
          "height": 199,
          "referenced_widgets": [
            "ded06a75ea83474b88489b750e1df37b",
            "788560cf39f24141b64506432a8b7ed7",
            "11895fbcac5a4e0c9b28cb7589e2fb9f",
            "1c69a2967c3e455c87b36da4ce056d2c",
            "6899f8cc0ed446818c12e98db5dd124b",
            "253398f82fa44dffa9121c2c87db2386",
            "5ff0f2ba4dd3418c933a853122be3290",
            "35248ba2b36b4557b3ec0a8176c15d18",
            "dfcf55b121ca4b6c8ae3fab28d853051",
            "7731799326cb4aba8b1ed36f233a9211",
            "4fe87ceaafbf416a902a6632237c38ab"
          ]
        },
        "execution": {
          "iopub.execute_input": "2025-06-26T04:39:55.459074Z",
          "iopub.status.busy": "2025-06-26T04:39:55.458952Z",
          "iopub.status.idle": "2025-06-26T04:43:49.532210Z",
          "shell.execute_reply": "2025-06-26T04:43:49.531798Z"
        },
        "id": "qgwQxAEwZ8Cn",
        "outputId": "1922f379-2493-4d70-eaaa-1384c821f659"
      },
      "outputs": [
        {
          "metadata": {
            "tags": null
          },
          "name": "stderr",
          "output_type": "stream",
          "text": [
            "INFO: GPU available: True (cuda), used: True\n",
            "INFO:lightning.pytorch.utilities.rank_zero:GPU available: True (cuda), used: True\n",
            "INFO: TPU available: False, using: 0 TPU cores\n",
            "INFO:lightning.pytorch.utilities.rank_zero:TPU available: False, using: 0 TPU cores\n",
            "INFO: HPU available: False, using: 0 HPUs\n",
            "INFO:lightning.pytorch.utilities.rank_zero:HPU available: False, using: 0 HPUs\n",
            "INFO: LOCAL_RANK: 0 - CUDA_VISIBLE_DEVICES: [0]\n",
            "INFO:lightning.pytorch.accelerators.cuda:LOCAL_RANK: 0 - CUDA_VISIBLE_DEVICES: [0]\n"
          ]
        },
        {
          "data": {
            "application/vnd.jupyter.widget-view+json": {
              "model_id": "ded06a75ea83474b88489b750e1df37b",
              "version_major": 2,
              "version_minor": 0
            },
            "text/plain": [
              "Training:   0%|          | 0/246 [00:00<?, ?it/s]"
            ]
          },
          "metadata": {},
          "output_type": "display_data"
        }
      ],
      "source": [
        "model.train()"
      ]
    },
    {
      "cell_type": "markdown",
      "metadata": {
        "id": "cjZOTdkqw5Jx"
      },
      "source": [
        "Once the training is done, we can evaluate the latent representation of each cell in the dataset and add it to the AnnData object"
      ]
    },
    {
      "cell_type": "code",
      "execution_count": null,
      "metadata": {
        "execution": {
          "iopub.execute_input": "2025-06-26T04:43:49.533388Z",
          "iopub.status.busy": "2025-06-26T04:43:49.533302Z",
          "iopub.status.idle": "2025-06-26T04:43:49.698366Z",
          "shell.execute_reply": "2025-06-26T04:43:49.698030Z"
        },
        "id": "rk1nXdUDbR7f"
      },
      "outputs": [],
      "source": [
        "SCVI_LATENT_KEY = \"X_scVI\"\n",
        "adata.obsm[SCVI_LATENT_KEY] = model.get_latent_representation()"
      ]
    },
    {
      "cell_type": "markdown",
      "metadata": {
        "id": "avW1cJc1xMtO"
      },
      "source": [
        "Finally, we can cluster the dataset and visualize it the scVI latent space."
      ]
    },
    {
      "cell_type": "code",
      "execution_count": null,
      "metadata": {
        "execution": {
          "iopub.execute_input": "2025-06-26T04:43:49.699750Z",
          "iopub.status.busy": "2025-06-26T04:43:49.699655Z",
          "iopub.status.idle": "2025-06-26T04:44:16.080910Z",
          "shell.execute_reply": "2025-06-26T04:44:16.080550Z"
        },
        "id": "E4C36TrWV_lz"
      },
      "outputs": [],
      "source": [
        "sc.pp.neighbors(adata, use_rep=SCVI_LATENT_KEY)\n",
        "sc.tl.leiden(adata)"
      ]
    },
    {
      "cell_type": "markdown",
      "metadata": {
        "id": "Wp5rAX8pX7Se"
      },
      "source": [
        "To visualize the scVI's learned embeddings, we use UMAP."
      ]
    },
    {
      "cell_type": "code",
      "execution_count": null,
      "metadata": {
        "execution": {
          "iopub.execute_input": "2025-06-26T04:44:16.082566Z",
          "iopub.status.busy": "2025-06-26T04:44:16.082461Z",
          "iopub.status.idle": "2025-06-26T04:44:25.136342Z",
          "shell.execute_reply": "2025-06-26T04:44:25.135978Z"
        },
        "id": "fYWxS-RqPQQu"
      },
      "outputs": [],
      "source": [
        "sc.tl.umap(adata, min_dist=0.3)\n",
        "sc.pl.umap(\n",
        "    adata,\n",
        "    color=[\"batch\", \"leiden\"],\n",
        "    frameon=False,\n",
        "    ncols=1,\n",
        ")"
      ]
    },
    {
      "cell_type": "markdown",
      "metadata": {
        "id": "yzg2xl6ByRnj"
      },
      "source": [
        "Because this data has been used for benchmarking, we have access here to curated annotations. We can use those to assess whether the integration worked reasonably well."
      ]
    },
    {
      "cell_type": "code",
      "execution_count": null,
      "metadata": {
        "execution": {
          "iopub.execute_input": "2025-06-26T04:44:25.139223Z",
          "iopub.status.busy": "2025-06-26T04:44:25.139112Z",
          "iopub.status.idle": "2025-06-26T04:44:25.349893Z",
          "shell.execute_reply": "2025-06-26T04:44:25.349578Z"
        },
        "id": "yz5aZ9IyPQQu"
      },
      "outputs": [],
      "source": [
        "sc.pl.umap(\n",
        "    adata,\n",
        "    color=[\"cell_type\"],\n",
        "    frameon=False,\n",
        "    ncols=1,\n",
        ")"
      ]
    },
    {
      "cell_type": "markdown",
      "metadata": {
        "id": "_sIqtuFNzCcW"
      },
      "source": [
        "At a quick glance, it looks like the integration worked well. Indeed, the two datasets are relatively mixed in latent space and the cell types cluster together. We see that this dataset is quite complex, where only some batches contain certain cell types.\n",
        "\n",
        "Below we quantify the performance."
      ]
    },
    {
      "cell_type": "markdown",
      "metadata": {
        "id": "t9nwRoQ8zrIr"
      },
      "source": [
        "## Integration with scANVI\n",
        "\n",
        "Previously, we used scVI as we assumed we did not have any cell type annotations available to guide us. Consequently, after the previous analysis, one would have to annotate clusters using differential expression, or by other means.\n",
        "\n",
        "Now, we assume that all of our data is annotated. This can lead to a more accurate integration result when using scANVI, i.e., our latent data manifold is better suited to downstream tasks like visualization, trajectory inference, or nearest-neighbor-based tasks. scANVI requires:\n",
        "\n",
        "- the sample identifier for each cell (as in scVI)\n",
        "- the cell type/state for each cell\n",
        "\n",
        "scANVI can also be used for label transfer and we recommend checking out the other scANVI tutorials to see explore this functionality."
      ]
    },
    {
      "cell_type": "markdown",
      "metadata": {
        "id": "ErNlZ8D2kW9a"
      },
      "source": [
        "Since we've already trained an scVI model on our data, we will use it to initialize scANVI.  When initializing scANVI, we provide it the `labels_key`. As scANVI can also be used for datasets with partially-observed annotations, we need to give it the name of the category that corresponds to unlabeled cells. As we have no unlabeled cells, we can give it any random name that is not the name of an exisiting cell type."
      ]
    },
    {
      "cell_type": "markdown",
      "metadata": {
        "id": "vRByw1nFY8y3"
      },
      "source": [
        "```{important}\n",
        "scANVI should be initialized from a scVI model pre-trained on the same exact data.\n",
        "```"
      ]
    },
    {
      "cell_type": "code",
      "execution_count": null,
      "metadata": {
        "execution": {
          "iopub.execute_input": "2025-06-26T04:44:25.351618Z",
          "iopub.status.busy": "2025-06-26T04:44:25.351515Z",
          "iopub.status.idle": "2025-06-26T04:44:25.375774Z",
          "shell.execute_reply": "2025-06-26T04:44:25.375384Z"
        },
        "id": "SDUHpk82dHwl"
      },
      "outputs": [],
      "source": [
        "scanvi_model = scvi.model.SCANVI.from_scvi_model(\n",
        "    model,\n",
        "    adata=adata,\n",
        "    labels_key=\"cell_type\",\n",
        "    unlabeled_category=\"Unknown\",\n",
        ")"
      ]
    },
    {
      "cell_type": "code",
      "execution_count": null,
      "metadata": {
        "execution": {
          "iopub.execute_input": "2025-06-26T04:44:25.376724Z",
          "iopub.status.busy": "2025-06-26T04:44:25.376632Z",
          "iopub.status.idle": "2025-06-26T04:45:08.881624Z",
          "shell.execute_reply": "2025-06-26T04:45:08.881346Z"
        },
        "id": "Z3xNG78z2IrY"
      },
      "outputs": [],
      "source": [
        "scanvi_model.train(max_epochs=20, n_samples_per_label=100)"
      ]
    },
    {
      "cell_type": "markdown",
      "metadata": {
        "id": "tJ0M4bGq2op0"
      },
      "source": [
        "Now we can retrieve the latent space"
      ]
    },
    {
      "cell_type": "code",
      "execution_count": null,
      "metadata": {
        "execution": {
          "iopub.execute_input": "2025-06-26T04:45:08.882716Z",
          "iopub.status.busy": "2025-06-26T04:45:08.882631Z",
          "iopub.status.idle": "2025-06-26T04:45:09.068830Z",
          "shell.execute_reply": "2025-06-26T04:45:09.068467Z"
        },
        "id": "toAr8O4nWHUM"
      },
      "outputs": [],
      "source": [
        "SCANVI_LATENT_KEY = \"X_scANVI\"\n",
        "adata.obsm[SCANVI_LATENT_KEY] = scanvi_model.get_latent_representation(adata)"
      ]
    },
    {
      "cell_type": "markdown",
      "metadata": {
        "id": "dt_oudho3CuM"
      },
      "source": [
        "Again, we may visualize the latent space as well as the inferred labels"
      ]
    },
    {
      "cell_type": "code",
      "execution_count": null,
      "metadata": {
        "execution": {
          "iopub.execute_input": "2025-06-26T04:45:09.070113Z",
          "iopub.status.busy": "2025-06-26T04:45:09.070022Z",
          "iopub.status.idle": "2025-06-26T04:45:20.036060Z",
          "shell.execute_reply": "2025-06-26T04:45:20.035695Z"
        },
        "id": "5dXUeOuzPQQu"
      },
      "outputs": [],
      "source": [
        "sc.pp.neighbors(adata, use_rep=SCANVI_LATENT_KEY)\n",
        "sc.tl.umap(adata, min_dist=0.3)"
      ]
    },
    {
      "cell_type": "code",
      "execution_count": null,
      "metadata": {
        "execution": {
          "iopub.execute_input": "2025-06-26T04:45:20.037638Z",
          "iopub.status.busy": "2025-06-26T04:45:20.037524Z",
          "iopub.status.idle": "2025-06-26T04:45:20.249252Z",
          "shell.execute_reply": "2025-06-26T04:45:20.248775Z"
        },
        "id": "qD7yJbZWPQQu"
      },
      "outputs": [],
      "source": [
        "sc.pl.umap(\n",
        "    adata,\n",
        "    color=[\"cell_type\"],\n",
        "    frameon=False,\n",
        "    ncols=1,\n",
        ")"
      ]
    },
    {
      "cell_type": "markdown",
      "metadata": {
        "id": "SOORjsgt3oPt"
      },
      "source": [
        "### Compute integration metrics\n",
        "\n",
        "Here we use the [scib-metrics](https://scib-metrics.readthedocs.io/en/stable/) package, which contains scalable implementations of the metrics used in the scIB benchmarking suite. We can use these metrics to assess the quality of the integration.\n",
        "\n",
        "We can see that the additional training with label information and scANVI improved the metrics that capture bio conservation (`cLISI, Silhouette labels`) without sacrificing too much batch correction power (`iLISI, Silhouette batch`)"
      ]
    },
    {
      "cell_type": "code",
      "execution_count": null,
      "metadata": {
        "execution": {
          "iopub.execute_input": "2025-06-26T04:45:20.250285Z",
          "iopub.status.busy": "2025-06-26T04:45:20.250195Z",
          "iopub.status.idle": "2025-06-26T04:46:22.512957Z",
          "shell.execute_reply": "2025-06-26T04:46:22.512616Z"
        },
        "id": "pVoSfas1cwNd"
      },
      "outputs": [],
      "source": [
        "bm = Benchmarker(\n",
        "    adata,\n",
        "    batch_key=\"batch\",\n",
        "    label_key=\"cell_type\",\n",
        "    embedding_obsm_keys=[\"X_pca\", SCVI_LATENT_KEY, SCANVI_LATENT_KEY],\n",
        "    n_jobs=-1,\n",
        ")\n",
        "bm.benchmark()"
      ]
    },
    {
      "cell_type": "code",
      "execution_count": null,
      "metadata": {
        "execution": {
          "iopub.execute_input": "2025-06-26T04:46:22.513830Z",
          "iopub.status.busy": "2025-06-26T04:46:22.513738Z",
          "iopub.status.idle": "2025-06-26T04:46:22.653581Z",
          "shell.execute_reply": "2025-06-26T04:46:22.653355Z"
        },
        "id": "Ha9C7ZcXPQQz"
      },
      "outputs": [],
      "source": [
        "bm.plot_results_table(min_max_scale=False)"
      ]
    },
    {
      "cell_type": "code",
      "execution_count": null,
      "metadata": {
        "execution": {
          "iopub.execute_input": "2025-06-26T04:46:22.654560Z",
          "iopub.status.busy": "2025-06-26T04:46:22.654470Z",
          "iopub.status.idle": "2025-06-26T04:46:22.663679Z",
          "shell.execute_reply": "2025-06-26T04:46:22.663486Z"
        },
        "id": "vusamWHyPQQz"
      },
      "outputs": [],
      "source": [
        "df = bm.get_results(min_max_scale=False)\n",
        "print(df)"
      ]
    },
    {
      "cell_type": "code",
      "execution_count": null,
      "metadata": {
        "id": "OsoZzmw4PQQz"
      },
      "outputs": [],
      "source": []
    }
  ],
  "metadata": {
    "accelerator": "GPU",
    "colab": {
      "machine_shape": "hm",
      "provenance": [],
      "toc_visible": true
    },
    "kernelspec": {
      "display_name": "Python 3 (ipykernel)",
      "language": "python",
      "name": "python3"
    },
    "language_info": {
      "codemirror_mode": {
        "name": "ipython",
        "version": 3
      },
      "file_extension": ".py",
      "mimetype": "text/x-python",
      "name": "python",
      "nbconvert_exporter": "python",
      "pygments_lexer": "ipython3",
      "version": "3.12.11"
    },
    "vscode": {
      "interpreter": {
        "hash": "b5142939ddaa1787bd1bfcf4c0ad4d35be0fa2237c553f986d37efcb39f03f79"
      }
    },
    "widgets": {
      "application/vnd.jupyter.widget-state+json": {
        "b2f58f64a3bc4babb415ee2f717dc6d2": {
          "model_module": "@jupyter-widgets/controls",
          "model_name": "HBoxModel",
          "model_module_version": "1.5.0",
          "state": {
            "_dom_classes": [],
            "_model_module": "@jupyter-widgets/controls",
            "_model_module_version": "1.5.0",
            "_model_name": "HBoxModel",
            "_view_count": null,
            "_view_module": "@jupyter-widgets/controls",
            "_view_module_version": "1.5.0",
            "_view_name": "HBoxView",
            "box_style": "",
            "children": [
              "IPY_MODEL_85a687e14a724c9ab065888aecd12934",
              "IPY_MODEL_892062f92fe34c7f9eea31adfa01053b",
              "IPY_MODEL_fc7b0ad71f424750963a871366fc6b94"
            ],
            "layout": "IPY_MODEL_a988f63064b449c98ad663689c96e692"
          }
        },
        "85a687e14a724c9ab065888aecd12934": {
          "model_module": "@jupyter-widgets/controls",
          "model_name": "HTMLModel",
          "model_module_version": "1.5.0",
          "state": {
            "_dom_classes": [],
            "_model_module": "@jupyter-widgets/controls",
            "_model_module_version": "1.5.0",
            "_model_name": "HTMLModel",
            "_view_count": null,
            "_view_module": "@jupyter-widgets/controls",
            "_view_module_version": "1.5.0",
            "_view_name": "HTMLView",
            "description": "",
            "description_tooltip": null,
            "layout": "IPY_MODEL_65589f866fe24b0890bb52e01b0a8074",
            "placeholder": "​",
            "style": "IPY_MODEL_249b0e08e98647638fdec1d725e72760",
            "value": "100%"
          }
        },
        "892062f92fe34c7f9eea31adfa01053b": {
          "model_module": "@jupyter-widgets/controls",
          "model_name": "FloatProgressModel",
          "model_module_version": "1.5.0",
          "state": {
            "_dom_classes": [],
            "_model_module": "@jupyter-widgets/controls",
            "_model_module_version": "1.5.0",
            "_model_name": "FloatProgressModel",
            "_view_count": null,
            "_view_module": "@jupyter-widgets/controls",
            "_view_module_version": "1.5.0",
            "_view_name": "ProgressView",
            "bar_style": "success",
            "description": "",
            "description_tooltip": null,
            "layout": "IPY_MODEL_020c4bb1a3624d38beea7b78c2b3643d",
            "max": 658880480,
            "min": 0,
            "orientation": "horizontal",
            "style": "IPY_MODEL_2bf96b78c04b4f898b02534f5ccd1ac3",
            "value": 658880480
          }
        },
        "fc7b0ad71f424750963a871366fc6b94": {
          "model_module": "@jupyter-widgets/controls",
          "model_name": "HTMLModel",
          "model_module_version": "1.5.0",
          "state": {
            "_dom_classes": [],
            "_model_module": "@jupyter-widgets/controls",
            "_model_module_version": "1.5.0",
            "_model_name": "HTMLModel",
            "_view_count": null,
            "_view_module": "@jupyter-widgets/controls",
            "_view_module_version": "1.5.0",
            "_view_name": "HTMLView",
            "description": "",
            "description_tooltip": null,
            "layout": "IPY_MODEL_d66df2fd42f443788da3647f0ef2933a",
            "placeholder": "​",
            "style": "IPY_MODEL_ce91b33fc6c5473f8530902422f832fe",
            "value": " 628M/628M [00:39&lt;00:00, 14.1MB/s]"
          }
        },
        "a988f63064b449c98ad663689c96e692": {
          "model_module": "@jupyter-widgets/base",
          "model_name": "LayoutModel",
          "model_module_version": "1.2.0",
          "state": {
            "_model_module": "@jupyter-widgets/base",
            "_model_module_version": "1.2.0",
            "_model_name": "LayoutModel",
            "_view_count": null,
            "_view_module": "@jupyter-widgets/base",
            "_view_module_version": "1.2.0",
            "_view_name": "LayoutView",
            "align_content": null,
            "align_items": null,
            "align_self": null,
            "border": null,
            "bottom": null,
            "display": null,
            "flex": null,
            "flex_flow": null,
            "grid_area": null,
            "grid_auto_columns": null,
            "grid_auto_flow": null,
            "grid_auto_rows": null,
            "grid_column": null,
            "grid_gap": null,
            "grid_row": null,
            "grid_template_areas": null,
            "grid_template_columns": null,
            "grid_template_rows": null,
            "height": null,
            "justify_content": null,
            "justify_items": null,
            "left": null,
            "margin": null,
            "max_height": null,
            "max_width": null,
            "min_height": null,
            "min_width": null,
            "object_fit": null,
            "object_position": null,
            "order": null,
            "overflow": null,
            "overflow_x": null,
            "overflow_y": null,
            "padding": null,
            "right": null,
            "top": null,
            "visibility": null,
            "width": null
          }
        },
        "65589f866fe24b0890bb52e01b0a8074": {
          "model_module": "@jupyter-widgets/base",
          "model_name": "LayoutModel",
          "model_module_version": "1.2.0",
          "state": {
            "_model_module": "@jupyter-widgets/base",
            "_model_module_version": "1.2.0",
            "_model_name": "LayoutModel",
            "_view_count": null,
            "_view_module": "@jupyter-widgets/base",
            "_view_module_version": "1.2.0",
            "_view_name": "LayoutView",
            "align_content": null,
            "align_items": null,
            "align_self": null,
            "border": null,
            "bottom": null,
            "display": null,
            "flex": null,
            "flex_flow": null,
            "grid_area": null,
            "grid_auto_columns": null,
            "grid_auto_flow": null,
            "grid_auto_rows": null,
            "grid_column": null,
            "grid_gap": null,
            "grid_row": null,
            "grid_template_areas": null,
            "grid_template_columns": null,
            "grid_template_rows": null,
            "height": null,
            "justify_content": null,
            "justify_items": null,
            "left": null,
            "margin": null,
            "max_height": null,
            "max_width": null,
            "min_height": null,
            "min_width": null,
            "object_fit": null,
            "object_position": null,
            "order": null,
            "overflow": null,
            "overflow_x": null,
            "overflow_y": null,
            "padding": null,
            "right": null,
            "top": null,
            "visibility": null,
            "width": null
          }
        },
        "249b0e08e98647638fdec1d725e72760": {
          "model_module": "@jupyter-widgets/controls",
          "model_name": "DescriptionStyleModel",
          "model_module_version": "1.5.0",
          "state": {
            "_model_module": "@jupyter-widgets/controls",
            "_model_module_version": "1.5.0",
            "_model_name": "DescriptionStyleModel",
            "_view_count": null,
            "_view_module": "@jupyter-widgets/base",
            "_view_module_version": "1.2.0",
            "_view_name": "StyleView",
            "description_width": ""
          }
        },
        "020c4bb1a3624d38beea7b78c2b3643d": {
          "model_module": "@jupyter-widgets/base",
          "model_name": "LayoutModel",
          "model_module_version": "1.2.0",
          "state": {
            "_model_module": "@jupyter-widgets/base",
            "_model_module_version": "1.2.0",
            "_model_name": "LayoutModel",
            "_view_count": null,
            "_view_module": "@jupyter-widgets/base",
            "_view_module_version": "1.2.0",
            "_view_name": "LayoutView",
            "align_content": null,
            "align_items": null,
            "align_self": null,
            "border": null,
            "bottom": null,
            "display": null,
            "flex": null,
            "flex_flow": null,
            "grid_area": null,
            "grid_auto_columns": null,
            "grid_auto_flow": null,
            "grid_auto_rows": null,
            "grid_column": null,
            "grid_gap": null,
            "grid_row": null,
            "grid_template_areas": null,
            "grid_template_columns": null,
            "grid_template_rows": null,
            "height": null,
            "justify_content": null,
            "justify_items": null,
            "left": null,
            "margin": null,
            "max_height": null,
            "max_width": null,
            "min_height": null,
            "min_width": null,
            "object_fit": null,
            "object_position": null,
            "order": null,
            "overflow": null,
            "overflow_x": null,
            "overflow_y": null,
            "padding": null,
            "right": null,
            "top": null,
            "visibility": null,
            "width": null
          }
        },
        "2bf96b78c04b4f898b02534f5ccd1ac3": {
          "model_module": "@jupyter-widgets/controls",
          "model_name": "ProgressStyleModel",
          "model_module_version": "1.5.0",
          "state": {
            "_model_module": "@jupyter-widgets/controls",
            "_model_module_version": "1.5.0",
            "_model_name": "ProgressStyleModel",
            "_view_count": null,
            "_view_module": "@jupyter-widgets/base",
            "_view_module_version": "1.2.0",
            "_view_name": "StyleView",
            "bar_color": null,
            "description_width": ""
          }
        },
        "d66df2fd42f443788da3647f0ef2933a": {
          "model_module": "@jupyter-widgets/base",
          "model_name": "LayoutModel",
          "model_module_version": "1.2.0",
          "state": {
            "_model_module": "@jupyter-widgets/base",
            "_model_module_version": "1.2.0",
            "_model_name": "LayoutModel",
            "_view_count": null,
            "_view_module": "@jupyter-widgets/base",
            "_view_module_version": "1.2.0",
            "_view_name": "LayoutView",
            "align_content": null,
            "align_items": null,
            "align_self": null,
            "border": null,
            "bottom": null,
            "display": null,
            "flex": null,
            "flex_flow": null,
            "grid_area": null,
            "grid_auto_columns": null,
            "grid_auto_flow": null,
            "grid_auto_rows": null,
            "grid_column": null,
            "grid_gap": null,
            "grid_row": null,
            "grid_template_areas": null,
            "grid_template_columns": null,
            "grid_template_rows": null,
            "height": null,
            "justify_content": null,
            "justify_items": null,
            "left": null,
            "margin": null,
            "max_height": null,
            "max_width": null,
            "min_height": null,
            "min_width": null,
            "object_fit": null,
            "object_position": null,
            "order": null,
            "overflow": null,
            "overflow_x": null,
            "overflow_y": null,
            "padding": null,
            "right": null,
            "top": null,
            "visibility": null,
            "width": null
          }
        },
        "ce91b33fc6c5473f8530902422f832fe": {
          "model_module": "@jupyter-widgets/controls",
          "model_name": "DescriptionStyleModel",
          "model_module_version": "1.5.0",
          "state": {
            "_model_module": "@jupyter-widgets/controls",
            "_model_module_version": "1.5.0",
            "_model_name": "DescriptionStyleModel",
            "_view_count": null,
            "_view_module": "@jupyter-widgets/base",
            "_view_module_version": "1.2.0",
            "_view_name": "StyleView",
            "description_width": ""
          }
        },
        "ded06a75ea83474b88489b750e1df37b": {
          "model_module": "@jupyter-widgets/controls",
          "model_name": "HBoxModel",
          "model_module_version": "1.5.0",
          "state": {
            "_dom_classes": [],
            "_model_module": "@jupyter-widgets/controls",
            "_model_module_version": "1.5.0",
            "_model_name": "HBoxModel",
            "_view_count": null,
            "_view_module": "@jupyter-widgets/controls",
            "_view_module_version": "1.5.0",
            "_view_name": "HBoxView",
            "box_style": "",
            "children": [
              "IPY_MODEL_788560cf39f24141b64506432a8b7ed7",
              "IPY_MODEL_11895fbcac5a4e0c9b28cb7589e2fb9f",
              "IPY_MODEL_1c69a2967c3e455c87b36da4ce056d2c"
            ],
            "layout": "IPY_MODEL_6899f8cc0ed446818c12e98db5dd124b"
          }
        },
        "788560cf39f24141b64506432a8b7ed7": {
          "model_module": "@jupyter-widgets/controls",
          "model_name": "HTMLModel",
          "model_module_version": "1.5.0",
          "state": {
            "_dom_classes": [],
            "_model_module": "@jupyter-widgets/controls",
            "_model_module_version": "1.5.0",
            "_model_name": "HTMLModel",
            "_view_count": null,
            "_view_module": "@jupyter-widgets/controls",
            "_view_module_version": "1.5.0",
            "_view_name": "HTMLView",
            "description": "",
            "description_tooltip": null,
            "layout": "IPY_MODEL_253398f82fa44dffa9121c2c87db2386",
            "placeholder": "​",
            "style": "IPY_MODEL_5ff0f2ba4dd3418c933a853122be3290",
            "value": "Epoch 82/246:  33%"
          }
        },
        "11895fbcac5a4e0c9b28cb7589e2fb9f": {
          "model_module": "@jupyter-widgets/controls",
          "model_name": "FloatProgressModel",
          "model_module_version": "1.5.0",
          "state": {
            "_dom_classes": [],
            "_model_module": "@jupyter-widgets/controls",
            "_model_module_version": "1.5.0",
            "_model_name": "FloatProgressModel",
            "_view_count": null,
            "_view_module": "@jupyter-widgets/controls",
            "_view_module_version": "1.5.0",
            "_view_name": "ProgressView",
            "bar_style": "",
            "description": "",
            "description_tooltip": null,
            "layout": "IPY_MODEL_35248ba2b36b4557b3ec0a8176c15d18",
            "max": 246,
            "min": 0,
            "orientation": "horizontal",
            "style": "IPY_MODEL_dfcf55b121ca4b6c8ae3fab28d853051",
            "value": 81
          }
        },
        "1c69a2967c3e455c87b36da4ce056d2c": {
          "model_module": "@jupyter-widgets/controls",
          "model_name": "HTMLModel",
          "model_module_version": "1.5.0",
          "state": {
            "_dom_classes": [],
            "_model_module": "@jupyter-widgets/controls",
            "_model_module_version": "1.5.0",
            "_model_name": "HTMLModel",
            "_view_count": null,
            "_view_module": "@jupyter-widgets/controls",
            "_view_module_version": "1.5.0",
            "_view_name": "HTMLView",
            "description": "",
            "description_tooltip": null,
            "layout": "IPY_MODEL_7731799326cb4aba8b1ed36f233a9211",
            "placeholder": "​",
            "style": "IPY_MODEL_4fe87ceaafbf416a902a6632237c38ab",
            "value": " 81/246 [03:55&lt;07:32,  2.74s/it, v_num=1, train_loss_step=560, train_loss_epoch=547]"
          }
        },
        "6899f8cc0ed446818c12e98db5dd124b": {
          "model_module": "@jupyter-widgets/base",
          "model_name": "LayoutModel",
          "model_module_version": "1.2.0",
          "state": {
            "_model_module": "@jupyter-widgets/base",
            "_model_module_version": "1.2.0",
            "_model_name": "LayoutModel",
            "_view_count": null,
            "_view_module": "@jupyter-widgets/base",
            "_view_module_version": "1.2.0",
            "_view_name": "LayoutView",
            "align_content": null,
            "align_items": null,
            "align_self": null,
            "border": null,
            "bottom": null,
            "display": null,
            "flex": null,
            "flex_flow": null,
            "grid_area": null,
            "grid_auto_columns": null,
            "grid_auto_flow": null,
            "grid_auto_rows": null,
            "grid_column": null,
            "grid_gap": null,
            "grid_row": null,
            "grid_template_areas": null,
            "grid_template_columns": null,
            "grid_template_rows": null,
            "height": null,
            "justify_content": null,
            "justify_items": null,
            "left": null,
            "margin": null,
            "max_height": null,
            "max_width": null,
            "min_height": null,
            "min_width": null,
            "object_fit": null,
            "object_position": null,
            "order": null,
            "overflow": null,
            "overflow_x": null,
            "overflow_y": null,
            "padding": null,
            "right": null,
            "top": null,
            "visibility": null,
            "width": null
          }
        },
        "253398f82fa44dffa9121c2c87db2386": {
          "model_module": "@jupyter-widgets/base",
          "model_name": "LayoutModel",
          "model_module_version": "1.2.0",
          "state": {
            "_model_module": "@jupyter-widgets/base",
            "_model_module_version": "1.2.0",
            "_model_name": "LayoutModel",
            "_view_count": null,
            "_view_module": "@jupyter-widgets/base",
            "_view_module_version": "1.2.0",
            "_view_name": "LayoutView",
            "align_content": null,
            "align_items": null,
            "align_self": null,
            "border": null,
            "bottom": null,
            "display": null,
            "flex": null,
            "flex_flow": null,
            "grid_area": null,
            "grid_auto_columns": null,
            "grid_auto_flow": null,
            "grid_auto_rows": null,
            "grid_column": null,
            "grid_gap": null,
            "grid_row": null,
            "grid_template_areas": null,
            "grid_template_columns": null,
            "grid_template_rows": null,
            "height": null,
            "justify_content": null,
            "justify_items": null,
            "left": null,
            "margin": null,
            "max_height": null,
            "max_width": null,
            "min_height": null,
            "min_width": null,
            "object_fit": null,
            "object_position": null,
            "order": null,
            "overflow": null,
            "overflow_x": null,
            "overflow_y": null,
            "padding": null,
            "right": null,
            "top": null,
            "visibility": null,
            "width": null
          }
        },
        "5ff0f2ba4dd3418c933a853122be3290": {
          "model_module": "@jupyter-widgets/controls",
          "model_name": "DescriptionStyleModel",
          "model_module_version": "1.5.0",
          "state": {
            "_model_module": "@jupyter-widgets/controls",
            "_model_module_version": "1.5.0",
            "_model_name": "DescriptionStyleModel",
            "_view_count": null,
            "_view_module": "@jupyter-widgets/base",
            "_view_module_version": "1.2.0",
            "_view_name": "StyleView",
            "description_width": ""
          }
        },
        "35248ba2b36b4557b3ec0a8176c15d18": {
          "model_module": "@jupyter-widgets/base",
          "model_name": "LayoutModel",
          "model_module_version": "1.2.0",
          "state": {
            "_model_module": "@jupyter-widgets/base",
            "_model_module_version": "1.2.0",
            "_model_name": "LayoutModel",
            "_view_count": null,
            "_view_module": "@jupyter-widgets/base",
            "_view_module_version": "1.2.0",
            "_view_name": "LayoutView",
            "align_content": null,
            "align_items": null,
            "align_self": null,
            "border": null,
            "bottom": null,
            "display": null,
            "flex": null,
            "flex_flow": null,
            "grid_area": null,
            "grid_auto_columns": null,
            "grid_auto_flow": null,
            "grid_auto_rows": null,
            "grid_column": null,
            "grid_gap": null,
            "grid_row": null,
            "grid_template_areas": null,
            "grid_template_columns": null,
            "grid_template_rows": null,
            "height": null,
            "justify_content": null,
            "justify_items": null,
            "left": null,
            "margin": null,
            "max_height": null,
            "max_width": null,
            "min_height": null,
            "min_width": null,
            "object_fit": null,
            "object_position": null,
            "order": null,
            "overflow": null,
            "overflow_x": null,
            "overflow_y": null,
            "padding": null,
            "right": null,
            "top": null,
            "visibility": null,
            "width": null
          }
        },
        "dfcf55b121ca4b6c8ae3fab28d853051": {
          "model_module": "@jupyter-widgets/controls",
          "model_name": "ProgressStyleModel",
          "model_module_version": "1.5.0",
          "state": {
            "_model_module": "@jupyter-widgets/controls",
            "_model_module_version": "1.5.0",
            "_model_name": "ProgressStyleModel",
            "_view_count": null,
            "_view_module": "@jupyter-widgets/base",
            "_view_module_version": "1.2.0",
            "_view_name": "StyleView",
            "bar_color": null,
            "description_width": ""
          }
        },
        "7731799326cb4aba8b1ed36f233a9211": {
          "model_module": "@jupyter-widgets/base",
          "model_name": "LayoutModel",
          "model_module_version": "1.2.0",
          "state": {
            "_model_module": "@jupyter-widgets/base",
            "_model_module_version": "1.2.0",
            "_model_name": "LayoutModel",
            "_view_count": null,
            "_view_module": "@jupyter-widgets/base",
            "_view_module_version": "1.2.0",
            "_view_name": "LayoutView",
            "align_content": null,
            "align_items": null,
            "align_self": null,
            "border": null,
            "bottom": null,
            "display": null,
            "flex": null,
            "flex_flow": null,
            "grid_area": null,
            "grid_auto_columns": null,
            "grid_auto_flow": null,
            "grid_auto_rows": null,
            "grid_column": null,
            "grid_gap": null,
            "grid_row": null,
            "grid_template_areas": null,
            "grid_template_columns": null,
            "grid_template_rows": null,
            "height": null,
            "justify_content": null,
            "justify_items": null,
            "left": null,
            "margin": null,
            "max_height": null,
            "max_width": null,
            "min_height": null,
            "min_width": null,
            "object_fit": null,
            "object_position": null,
            "order": null,
            "overflow": null,
            "overflow_x": null,
            "overflow_y": null,
            "padding": null,
            "right": null,
            "top": null,
            "visibility": null,
            "width": null
          }
        },
        "4fe87ceaafbf416a902a6632237c38ab": {
          "model_module": "@jupyter-widgets/controls",
          "model_name": "DescriptionStyleModel",
          "model_module_version": "1.5.0",
          "state": {
            "_model_module": "@jupyter-widgets/controls",
            "_model_module_version": "1.5.0",
            "_model_name": "DescriptionStyleModel",
            "_view_count": null,
            "_view_module": "@jupyter-widgets/base",
            "_view_module_version": "1.2.0",
            "_view_name": "StyleView",
            "description_width": ""
          }
        }
      }
    }
  },
  "nbformat": 4,
  "nbformat_minor": 0
}